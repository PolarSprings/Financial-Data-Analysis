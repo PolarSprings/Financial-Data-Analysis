{
 "cells": [
  {
   "cell_type": "code",
   "execution_count": 1,
   "id": "5a2596e0",
   "metadata": {},
   "outputs": [],
   "source": [
    "import pandas as pd\n",
    "import numpy as np\n",
    "\n",
    "import plotly.express as px\n",
    "from plotly.offline import *"
   ]
  },
  {
   "cell_type": "code",
   "execution_count": 30,
   "id": "975390fb",
   "metadata": {},
   "outputs": [
    {
     "data": {
      "text/html": [
       "<div>\n",
       "<style scoped>\n",
       "    .dataframe tbody tr th:only-of-type {\n",
       "        vertical-align: middle;\n",
       "    }\n",
       "\n",
       "    .dataframe tbody tr th {\n",
       "        vertical-align: top;\n",
       "    }\n",
       "\n",
       "    .dataframe thead th {\n",
       "        text-align: right;\n",
       "    }\n",
       "</style>\n",
       "<table border=\"1\" class=\"dataframe\">\n",
       "  <thead>\n",
       "    <tr style=\"text-align: right;\">\n",
       "      <th></th>\n",
       "      <th>Date</th>\n",
       "      <th>Revenue</th>\n",
       "      <th>Product Line</th>\n",
       "    </tr>\n",
       "  </thead>\n",
       "  <tbody>\n",
       "    <tr>\n",
       "      <th>0</th>\n",
       "      <td>2015-01-01</td>\n",
       "      <td>$108,632.40</td>\n",
       "      <td>Cars.go.com</td>\n",
       "    </tr>\n",
       "    <tr>\n",
       "      <th>1</th>\n",
       "      <td>2015-01-01</td>\n",
       "      <td>$31,494.02</td>\n",
       "      <td>Planes.go.com</td>\n",
       "    </tr>\n",
       "    <tr>\n",
       "      <th>2</th>\n",
       "      <td>2015-01-01</td>\n",
       "      <td>$239,376.48</td>\n",
       "      <td>Boats.go.com</td>\n",
       "    </tr>\n",
       "    <tr>\n",
       "      <th>3</th>\n",
       "      <td>2015-01-02</td>\n",
       "      <td>$552,064.80</td>\n",
       "      <td>Cars.go.com</td>\n",
       "    </tr>\n",
       "    <tr>\n",
       "      <th>4</th>\n",
       "      <td>2015-01-02</td>\n",
       "      <td>$238,344.12</td>\n",
       "      <td>Planes.go.com</td>\n",
       "    </tr>\n",
       "  </tbody>\n",
       "</table>\n",
       "</div>"
      ],
      "text/plain": [
       "        Date        Revenue   Product Line\n",
       "0 2015-01-01   $108,632.40     Cars.go.com\n",
       "1 2015-01-01    $31,494.02   Planes.go.com\n",
       "2 2015-01-01   $239,376.48    Boats.go.com\n",
       "3 2015-01-02   $552,064.80     Cars.go.com\n",
       "4 2015-01-02   $238,344.12   Planes.go.com"
      ]
     },
     "execution_count": 30,
     "metadata": {},
     "output_type": "execute_result"
    }
   ],
   "source": [
    "# read in the data\n",
    "\n",
    "repo = ('https://yipit-datatest.s3.us-east-2.amazonaws.com/Go.com_Assignment_Data_-3.csv')\n",
    "\n",
    "godata = pd.read_csv(repo, skipinitialspace=True,usecols=['Date','Revenue','Product Line'], parse_dates=['Date'])\n",
    "\n",
    "pd.set_option('display.max_rows',None)\n",
    "pd.set_option('display.max_columns',None)\n",
    "\n",
    "godata.head(5)"
   ]
  },
  {
   "cell_type": "code",
   "execution_count": 59,
   "id": "6e34b55b",
   "metadata": {},
   "outputs": [
    {
     "data": {
      "text/plain": [
       "0    108632.40\n",
       "1     31494.02\n",
       "2    239376.48\n",
       "3    552064.80\n",
       "4    238344.12\n",
       "Name: Revenue, dtype: float64"
      ]
     },
     "execution_count": 59,
     "metadata": {},
     "output_type": "execute_result"
    }
   ],
   "source": [
    "# clean the data\n",
    "\n",
    "godata['Revenue'] = [float(str(i).replace('$','').replace(',','').strip()) for i in godata.Revenue]\n",
    "godata = godata.dropna()"
   ]
  },
  {
   "cell_type": "code",
   "execution_count": 64,
   "id": "bc04f283",
   "metadata": {},
   "outputs": [],
   "source": [
    "# groupby and investigate\n",
    "\n",
    "godata_group = godata.groupby(['Product Line']).agg({'Revenue':np.sum})"
   ]
  },
  {
   "cell_type": "code",
   "execution_count": 65,
   "id": "da088abd",
   "metadata": {},
   "outputs": [
    {
     "data": {
      "text/html": [
       "<div>\n",
       "<style scoped>\n",
       "    .dataframe tbody tr th:only-of-type {\n",
       "        vertical-align: middle;\n",
       "    }\n",
       "\n",
       "    .dataframe tbody tr th {\n",
       "        vertical-align: top;\n",
       "    }\n",
       "\n",
       "    .dataframe thead th {\n",
       "        text-align: right;\n",
       "    }\n",
       "</style>\n",
       "<table border=\"1\" class=\"dataframe\">\n",
       "  <thead>\n",
       "    <tr style=\"text-align: right;\">\n",
       "      <th></th>\n",
       "      <th>Revenue</th>\n",
       "    </tr>\n",
       "    <tr>\n",
       "      <th>Product Line</th>\n",
       "      <th></th>\n",
       "    </tr>\n",
       "  </thead>\n",
       "  <tbody>\n",
       "    <tr>\n",
       "      <th>Boats.go.com</th>\n",
       "      <td>4736347.68</td>\n",
       "    </tr>\n",
       "    <tr>\n",
       "      <th>Cars.go.com</th>\n",
       "      <td>16757524.80</td>\n",
       "    </tr>\n",
       "    <tr>\n",
       "      <th>Planes.go.com</th>\n",
       "      <td>32529742.79</td>\n",
       "    </tr>\n",
       "  </tbody>\n",
       "</table>\n",
       "</div>"
      ],
      "text/plain": [
       "                   Revenue\n",
       "Product Line              \n",
       "Boats.go.com    4736347.68\n",
       "Cars.go.com    16757524.80\n",
       "Planes.go.com  32529742.79"
      ]
     },
     "execution_count": 65,
     "metadata": {},
     "output_type": "execute_result"
    }
   ],
   "source": [
    "godata_group"
   ]
  },
  {
   "cell_type": "markdown",
   "id": "4c838089",
   "metadata": {},
   "source": [
    "## Data Irregularity ##\n",
    "\n",
    "Note here that **Cars.go.com** had a blowout quarter: about 2.5 x as much revenue, when looking at the past four quarters combined. Should be confirmed with analysts.\n",
    "\n",
    "Other domains (planes.go.com, boats.go.com) seem in line with expectations."
   ]
  },
  {
   "cell_type": "markdown",
   "id": "aaff3eb4",
   "metadata": {},
   "source": [
    "## Next Steps ##\n",
    "\n",
    "As revenue data cannot be confirmed, the data is unreliable.\n",
    "\n",
    "Must switch to profit data (linear model)."
   ]
  },
  {
   "cell_type": "code",
   "execution_count": 118,
   "id": "d3df2be8",
   "metadata": {},
   "outputs": [],
   "source": [
    "# create dataframe from custom formatted .xlsx document\n",
    "\n",
    "profit = pd.DataFrame({\n",
    "    'Product Line':['Cars','Planes','Boats'],\n",
    "    'December 2013': [1217012.6, 161697.015,86591.56],\n",
    "    'March 2014': [1132716.4, 174307.62, 88361.76],\n",
    "    'June 2014': [1140398.8,180197.82,93143.68],\n",
    "    'September 2014': [1138382, 172111.21, 91955.3],\n",
    "    'December 2014': [1181270.4, 226688.21, 108744.28],\n",
    "                      })"
   ]
  },
  {
   "cell_type": "code",
   "execution_count": 68,
   "id": "d0e38c96",
   "metadata": {},
   "outputs": [
    {
     "data": {
      "text/html": [
       "<div>\n",
       "<style scoped>\n",
       "    .dataframe tbody tr th:only-of-type {\n",
       "        vertical-align: middle;\n",
       "    }\n",
       "\n",
       "    .dataframe tbody tr th {\n",
       "        vertical-align: top;\n",
       "    }\n",
       "\n",
       "    .dataframe thead th {\n",
       "        text-align: right;\n",
       "    }\n",
       "</style>\n",
       "<table border=\"1\" class=\"dataframe\">\n",
       "  <thead>\n",
       "    <tr style=\"text-align: right;\">\n",
       "      <th></th>\n",
       "      <th>Product Line</th>\n",
       "      <th>December 2013</th>\n",
       "      <th>March 2014</th>\n",
       "      <th>June 2014</th>\n",
       "      <th>September 2014</th>\n",
       "      <th>December 2014</th>\n",
       "    </tr>\n",
       "  </thead>\n",
       "  <tbody>\n",
       "    <tr>\n",
       "      <th>0</th>\n",
       "      <td>Cars</td>\n",
       "      <td>1217012.600</td>\n",
       "      <td>1132716.40</td>\n",
       "      <td>1140398.80</td>\n",
       "      <td>1138382.00</td>\n",
       "      <td>1181270.40</td>\n",
       "    </tr>\n",
       "    <tr>\n",
       "      <th>1</th>\n",
       "      <td>Planes</td>\n",
       "      <td>161697.015</td>\n",
       "      <td>174307.62</td>\n",
       "      <td>180197.82</td>\n",
       "      <td>172111.21</td>\n",
       "      <td>226688.21</td>\n",
       "    </tr>\n",
       "    <tr>\n",
       "      <th>2</th>\n",
       "      <td>Boats</td>\n",
       "      <td>86591.560</td>\n",
       "      <td>88361.76</td>\n",
       "      <td>93143.68</td>\n",
       "      <td>91955.30</td>\n",
       "      <td>108744.28</td>\n",
       "    </tr>\n",
       "  </tbody>\n",
       "</table>\n",
       "</div>"
      ],
      "text/plain": [
       "  Product Line  December 2013  March 2014   June 2014  September 2014  \\\n",
       "0         Cars    1217012.600  1132716.40  1140398.80      1138382.00   \n",
       "1       Planes     161697.015   174307.62   180197.82       172111.21   \n",
       "2        Boats      86591.560    88361.76    93143.68        91955.30   \n",
       "\n",
       "   December 2014  \n",
       "0     1181270.40  \n",
       "1      226688.21  \n",
       "2      108744.28  "
      ]
     },
     "execution_count": 68,
     "metadata": {},
     "output_type": "execute_result"
    }
   ],
   "source": [
    "profit[:5]"
   ]
  },
  {
   "cell_type": "code",
   "execution_count": 119,
   "id": "0d0392e5",
   "metadata": {},
   "outputs": [],
   "source": [
    "# melt to long form\n",
    "\n",
    "profit_melt = pd.melt(profit, id_vars='Product Line', var_name='Quarter', value_name='Profit')"
   ]
  },
  {
   "cell_type": "code",
   "execution_count": 79,
   "id": "84815f59",
   "metadata": {},
   "outputs": [
    {
     "data": {
      "text/html": [
       "<div>\n",
       "<style scoped>\n",
       "    .dataframe tbody tr th:only-of-type {\n",
       "        vertical-align: middle;\n",
       "    }\n",
       "\n",
       "    .dataframe tbody tr th {\n",
       "        vertical-align: top;\n",
       "    }\n",
       "\n",
       "    .dataframe thead th {\n",
       "        text-align: right;\n",
       "    }\n",
       "</style>\n",
       "<table border=\"1\" class=\"dataframe\">\n",
       "  <thead>\n",
       "    <tr style=\"text-align: right;\">\n",
       "      <th></th>\n",
       "      <th>Product Line</th>\n",
       "      <th>Quarter</th>\n",
       "      <th>Profit</th>\n",
       "    </tr>\n",
       "  </thead>\n",
       "  <tbody>\n",
       "    <tr>\n",
       "      <th>0</th>\n",
       "      <td>Cars</td>\n",
       "      <td>December 2013</td>\n",
       "      <td>1217012.600</td>\n",
       "    </tr>\n",
       "    <tr>\n",
       "      <th>1</th>\n",
       "      <td>Planes</td>\n",
       "      <td>December 2013</td>\n",
       "      <td>161697.015</td>\n",
       "    </tr>\n",
       "    <tr>\n",
       "      <th>2</th>\n",
       "      <td>Boats</td>\n",
       "      <td>December 2013</td>\n",
       "      <td>86591.560</td>\n",
       "    </tr>\n",
       "    <tr>\n",
       "      <th>3</th>\n",
       "      <td>Cars</td>\n",
       "      <td>March 2014</td>\n",
       "      <td>1132716.400</td>\n",
       "    </tr>\n",
       "    <tr>\n",
       "      <th>4</th>\n",
       "      <td>Planes</td>\n",
       "      <td>March 2014</td>\n",
       "      <td>174307.620</td>\n",
       "    </tr>\n",
       "    <tr>\n",
       "      <th>5</th>\n",
       "      <td>Boats</td>\n",
       "      <td>March 2014</td>\n",
       "      <td>88361.760</td>\n",
       "    </tr>\n",
       "    <tr>\n",
       "      <th>6</th>\n",
       "      <td>Cars</td>\n",
       "      <td>June 2014</td>\n",
       "      <td>1140398.800</td>\n",
       "    </tr>\n",
       "    <tr>\n",
       "      <th>7</th>\n",
       "      <td>Planes</td>\n",
       "      <td>June 2014</td>\n",
       "      <td>180197.820</td>\n",
       "    </tr>\n",
       "    <tr>\n",
       "      <th>8</th>\n",
       "      <td>Boats</td>\n",
       "      <td>June 2014</td>\n",
       "      <td>93143.680</td>\n",
       "    </tr>\n",
       "    <tr>\n",
       "      <th>9</th>\n",
       "      <td>Cars</td>\n",
       "      <td>September 2014</td>\n",
       "      <td>1138382.000</td>\n",
       "    </tr>\n",
       "    <tr>\n",
       "      <th>10</th>\n",
       "      <td>Planes</td>\n",
       "      <td>September 2014</td>\n",
       "      <td>172111.210</td>\n",
       "    </tr>\n",
       "    <tr>\n",
       "      <th>11</th>\n",
       "      <td>Boats</td>\n",
       "      <td>September 2014</td>\n",
       "      <td>91955.300</td>\n",
       "    </tr>\n",
       "    <tr>\n",
       "      <th>12</th>\n",
       "      <td>Cars</td>\n",
       "      <td>December 2014</td>\n",
       "      <td>1181270.400</td>\n",
       "    </tr>\n",
       "    <tr>\n",
       "      <th>13</th>\n",
       "      <td>Planes</td>\n",
       "      <td>December 2014</td>\n",
       "      <td>226688.210</td>\n",
       "    </tr>\n",
       "    <tr>\n",
       "      <th>14</th>\n",
       "      <td>Boats</td>\n",
       "      <td>December 2014</td>\n",
       "      <td>108744.280</td>\n",
       "    </tr>\n",
       "  </tbody>\n",
       "</table>\n",
       "</div>"
      ],
      "text/plain": [
       "   Product Line         Quarter       Profit\n",
       "0          Cars   December 2013  1217012.600\n",
       "1        Planes   December 2013   161697.015\n",
       "2         Boats   December 2013    86591.560\n",
       "3          Cars      March 2014  1132716.400\n",
       "4        Planes      March 2014   174307.620\n",
       "5         Boats      March 2014    88361.760\n",
       "6          Cars       June 2014  1140398.800\n",
       "7        Planes       June 2014   180197.820\n",
       "8         Boats       June 2014    93143.680\n",
       "9          Cars  September 2014  1138382.000\n",
       "10       Planes  September 2014   172111.210\n",
       "11        Boats  September 2014    91955.300\n",
       "12         Cars   December 2014  1181270.400\n",
       "13       Planes   December 2014   226688.210\n",
       "14        Boats   December 2014   108744.280"
      ]
     },
     "execution_count": 79,
     "metadata": {},
     "output_type": "execute_result"
    }
   ],
   "source": [
    "profit_melt"
   ]
  },
  {
   "cell_type": "code",
   "execution_count": 92,
   "id": "819f9820",
   "metadata": {},
   "outputs": [],
   "source": [
    "# split the variables\n",
    "\n",
    "xs = np.array([1,2,3,4,5]).reshape(-1,1)\n",
    "y1 = profit_melt[profit_melt['Product Line'].isin(['Cars'])]\n",
    "y2 = profit_melt[profit_melt['Product Line'].isin(['Planes'])]\n",
    "y3 = profit_melt[profit_melt['Product Line'].isin(['Boats'])]"
   ]
  },
  {
   "cell_type": "code",
   "execution_count": 96,
   "id": "2d1205cc",
   "metadata": {},
   "outputs": [],
   "source": [
    "# train test split\n",
    "\n",
    "x_train = xs\n",
    "y1_train = y1[['Profit']].squeeze()\n",
    "y2_train = y2[['Profit']].squeeze()\n",
    "y3_train = y3[['Profit']].squeeze()\n",
    "\n",
    "x_test = np.array([6]).reshape(-1,1)\n",
    "# y_test = np.nan"
   ]
  },
  {
   "cell_type": "code",
   "execution_count": 105,
   "id": "e9fa1948",
   "metadata": {},
   "outputs": [],
   "source": [
    "# linear regression function\n",
    "\n",
    "from sklearn.linear_model import LinearRegression\n",
    "\n",
    "\n",
    "def MultipleLinearRegression(model, x_train, y_trains_lst, x_test, y_test_lst):\n",
    "\n",
    "    clf = model\n",
    "\n",
    "    predictions = []\n",
    "\n",
    "    for y_train in y_trains_lst:\n",
    "\n",
    "        clf.fit(x_train, y_train)\n",
    "        predictions.append(clf.predict(x_test).round(2))\n",
    "\n",
    "        print('the training score for this set is: ', clf.score(x_train, y_train))\n",
    "        print('the test score for this set is unknown.')\n",
    "        print('the RMSE for this set is unknown.')\n",
    "        print('')    \n",
    "\n",
    "    return predictions"
   ]
  },
  {
   "cell_type": "code",
   "execution_count": 106,
   "id": "00a92345",
   "metadata": {
    "scrolled": true
   },
   "outputs": [
    {
     "name": "stdout",
     "output_type": "stream",
     "text": [
      "the training score for this set is:  0.08205265989567812\n",
      "the test score for this set is unknown.\n",
      "the RMSE for this set is unknown.\n",
      "\n",
      "the training score for this set is:  0.6367541611553372\n",
      "the test score for this set is unknown.\n",
      "the RMSE for this set is unknown.\n",
      "\n",
      "the training score for this set is:  0.7432343947085194\n",
      "the test score for this set is unknown.\n",
      "the RMSE for this set is unknown.\n",
      "\n"
     ]
    }
   ],
   "source": [
    "# call the function\n",
    "\n",
    "predictions = MultipleLinearRegression(LinearRegression(), x_train, [y1_train, y2_train, y3_train], x_test, np.nan)"
   ]
  },
  {
   "cell_type": "markdown",
   "id": "07e90c7e",
   "metadata": {},
   "source": [
    "## Conclusions ##\n",
    "\n",
    "We receive three final floats, one for Cars, Planes and Boats.\n",
    "These values are based on projects from just the past year. They are not considered to be accurate.\n",
    "\n",
    "Our model does not use any training data besides the dependent variable. This could be improved with more data."
   ]
  },
  {
   "cell_type": "code",
   "execution_count": 113,
   "id": "b4bb7933",
   "metadata": {},
   "outputs": [],
   "source": [
    "# look at predictions\n",
    "\n",
    "domains_names = ['Cars','Planes','Boats']\n",
    "\n",
    "predictions_dct = dict(zip(domains_names, predictions))\n",
    "\n",
    "profit['March 2015'] = [int(i) for i in predictions]"
   ]
  },
  {
   "cell_type": "code",
   "execution_count": 114,
   "id": "1fc11226",
   "metadata": {},
   "outputs": [
    {
     "data": {
      "text/html": [
       "<div>\n",
       "<style scoped>\n",
       "    .dataframe tbody tr th:only-of-type {\n",
       "        vertical-align: middle;\n",
       "    }\n",
       "\n",
       "    .dataframe tbody tr th {\n",
       "        vertical-align: top;\n",
       "    }\n",
       "\n",
       "    .dataframe thead th {\n",
       "        text-align: right;\n",
       "    }\n",
       "</style>\n",
       "<table border=\"1\" class=\"dataframe\">\n",
       "  <thead>\n",
       "    <tr style=\"text-align: right;\">\n",
       "      <th></th>\n",
       "      <th>Product Line</th>\n",
       "      <th>December 2013</th>\n",
       "      <th>March 2014</th>\n",
       "      <th>June 2014</th>\n",
       "      <th>September 2014</th>\n",
       "      <th>December 2014</th>\n",
       "      <th>March 2015</th>\n",
       "    </tr>\n",
       "  </thead>\n",
       "  <tbody>\n",
       "    <tr>\n",
       "      <th>0</th>\n",
       "      <td>Cars</td>\n",
       "      <td>1217012.600</td>\n",
       "      <td>1132716.40</td>\n",
       "      <td>1140398.80</td>\n",
       "      <td>1138382.00</td>\n",
       "      <td>1181270.40</td>\n",
       "      <td>1142210</td>\n",
       "    </tr>\n",
       "    <tr>\n",
       "      <th>1</th>\n",
       "      <td>Planes</td>\n",
       "      <td>161697.015</td>\n",
       "      <td>174307.62</td>\n",
       "      <td>180197.82</td>\n",
       "      <td>172111.21</td>\n",
       "      <td>226688.21</td>\n",
       "      <td>221336</td>\n",
       "    </tr>\n",
       "    <tr>\n",
       "      <th>2</th>\n",
       "      <td>Boats</td>\n",
       "      <td>86591.560</td>\n",
       "      <td>88361.76</td>\n",
       "      <td>93143.68</td>\n",
       "      <td>91955.30</td>\n",
       "      <td>108744.28</td>\n",
       "      <td>108129</td>\n",
       "    </tr>\n",
       "  </tbody>\n",
       "</table>\n",
       "</div>"
      ],
      "text/plain": [
       "  Product Line  December 2013  March 2014   June 2014  September 2014  \\\n",
       "0         Cars    1217012.600  1132716.40  1140398.80      1138382.00   \n",
       "1       Planes     161697.015   174307.62   180197.82       172111.21   \n",
       "2        Boats      86591.560    88361.76    93143.68        91955.30   \n",
       "\n",
       "   December 2014  March 2015  \n",
       "0     1181270.40     1142210  \n",
       "1      226688.21      221336  \n",
       "2      108744.28      108129  "
      ]
     },
     "execution_count": 114,
     "metadata": {},
     "output_type": "execute_result"
    }
   ],
   "source": [
    "# confirm and sum\n",
    "\n",
    "profit[:5]"
   ]
  },
  {
   "cell_type": "code",
   "execution_count": 116,
   "id": "b46e96cf",
   "metadata": {},
   "outputs": [
    {
     "data": {
      "text/plain": [
       "1471675"
      ]
     },
     "execution_count": 116,
     "metadata": {},
     "output_type": "execute_result"
    }
   ],
   "source": [
    "# final answer\n",
    "\n",
    "Q12015_Profit = profit['March 2015'].sum()\n",
    "Q12015_Profit"
   ]
  },
  {
   "cell_type": "markdown",
   "id": "7a635e3a",
   "metadata": {},
   "source": [
    "## Final Answer ##\n",
    "\n",
    "The suggested Q1, 2015 Profit across Cars, Planes, and Boats domains is equal to 1471675."
   ]
  }
 ],
 "metadata": {
  "kernelspec": {
   "display_name": "Python 3",
   "language": "python",
   "name": "python3"
  },
  "language_info": {
   "codemirror_mode": {
    "name": "ipython",
    "version": 3
   },
   "file_extension": ".py",
   "mimetype": "text/x-python",
   "name": "python",
   "nbconvert_exporter": "python",
   "pygments_lexer": "ipython3",
   "version": "3.8.9"
  }
 },
 "nbformat": 4,
 "nbformat_minor": 5
}
